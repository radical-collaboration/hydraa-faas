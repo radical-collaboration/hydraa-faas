{
 "cells": [
  {
   "cell_type": "markdown",
   "metadata": {},
   "source": [
    "# Agent faas deployment with hydraa faas manager\n",
    "\n",
    "This notebook demonstrates function deployment using the hydraa faas manager with agent faas middleware. it covers two primary methods:\n",
    "1. **inline code**: defining function code directly within the notebook.\n",
    "2. **project directories**: deploying functions from project directories.\n",
    "\n",
    "## Prerequisites\n",
    "- agent faas middleware running and configured (on localhost:8000 by default)\n",
    "- hydraa faas manager installed\n",
    "- python environment with necessary packages (`pip install -e .`)"
   ],
   "id": "c7bcd29610e432d5"
  },
  {
   "cell_type": "code",
   "metadata": {},
   "source": [
    "from src.hydraa_faas.faas_manager.manager import FaasManager\n",
    "from hydraa.services import ServiceManager\n",
    "from hydraa import Task\n",
    "import time\n",
    "import shutil\n",
    "import json\n",
    "import requests"
   ],
   "outputs": [],
   "execution_count": null,
   "id": "ac6df0fabc9fa5fb"
  },
  {
   "cell_type": "markdown",
   "metadata": {},
   "source": [
    "## Initial setup\n",
    "\n",
    "Configure the connection to the agent, check its health, and initialize the faas manager."
   ],
   "id": "a7c4ab9fe7be7bc9"
  },
  {
   "cell_type": "code",
   "metadata": {},
   "source": [
    "agent_config = {\n",
    "    'host': 'localhost',\n",
    "    'port': 8000,\n",
    "}\n",
    "agent_url = f\"http://{agent_config['host']}:{agent_config['port']}\"\n",
    "\n",
    "print(\"checking agent faas middleware health...\")\n",
    "try:\n",
    "    response = requests.get(f\"{agent_url}/health\", timeout=5)\n",
    "    agent_healthy = response.json().get('status') == 'healthy'\n",
    "except Exception as e:\n",
    "    agent_healthy = False\n",
    "\n",
    "if agent_healthy:\n",
    "    print(\"agent is healthy and ready.\")\n",
    "else:\n",
    "    print(\"agent is not healthy. please ensure the agent is running before continuing.\")\n",
    "\n",
    "if agent_healthy:\n",
    "    faas_mgr = FaasManager(proxy_mgr=None, asynchronous=True, auto_terminate=True, agent_config=agent_config)\n",
    "    service_mgr = ServiceManager([faas_mgr])\n",
    "    service_mgr.start_services()\n",
    "    print(\"faas manager started.\")"
   ],
   "outputs": [],
   "execution_count": null,
   "id": "757a43e54ccdfcf3"
  },
  {
   "cell_type": "markdown",
   "metadata": {},
   "source": [
    "## Example 1: deploying an inline function\n",
    "\n",
    "This example defines the function's source code directly in the notebook."
   ],
   "id": "9898fb7cfa576999"
  },
  {
   "cell_type": "code",
   "metadata": {},
   "source": [
    "inline_task = Task()\n",
    "inline_task.provider = 'agent'\n",
    "inline_task.handler_code = '''\n",
    "import json\n",
    "def handler(event, context=None):\n",
    "    name = event.get('name', 'world')\n",
    "    return {'statusCode': 200, 'body': json.dumps({'message': f'hello, {name} from an inline function!'})}\n",
    "'''\n",
    "inline_task.handler = 'main.handler'\n",
    "inline_task.runtime = 'python3.9'\n",
    "\n",
    "print(\"submitting inline function for deployment\")\n",
    "faas_mgr.submit(inline_task)"
   ],
   "outputs": [],
   "execution_count": null,
   "id": "52e5ad38a8382d45"
  },
  {
   "cell_type": "markdown",
   "metadata": {},
   "source": [
    "## Example 2: deploying from project files\n",
    "\n",
    "This example deploys functions from project directories. Remember to run the example directory creation script first."
   ],
   "id": "a611421b7778975f"
  },
  {
   "cell_type": "code",
   "metadata": {},
   "source": [
    "# create a task for the calculator function zip\n",
    "calculator_task = Task()\n",
    "calculator_task.provider = 'agent'\n",
    "calculator_task.source_path = '.agent_functions/calculator.zip'\n",
    "calculator_task.handler = 'main.handler'\n",
    "calculator_task.runtime = 'python3.9'\n",
    "\n",
    "# create a task for the text analyzer function zip\n",
    "text_analyzer_task = Task()\n",
    "text_analyzer_task.provider = 'agent'\n",
    "text_analyzer_task.source_path = './agent_functions/text_analyzer'\n",
    "text_analyzer_task.handler = 'main.handler'\n",
    "text_analyzer_task.runtime = 'python3.9'\n",
    "\n",
    "zip_tasks = [calculator_task, text_analyzer_task]\n",
    "\n",
    "print(\"submitting zipped functions for deployment\")\n",
    "faas_mgr.submit(zip_tasks)"
   ],
   "outputs": [],
   "execution_count": null,
   "id": "6af099df4a20368d"
  },
  {
   "cell_type": "markdown",
   "metadata": {},
   "source": [
    "## Get deployment results\n",
    "\n",
    "Wait for all submitted functions to finish deploying."
   ],
   "id": "1cfbe00bc9c907fd"
  },
  {
   "cell_type": "code",
   "metadata": {},
   "source": [
    "all_tasks = [inline_task] + zip_tasks\n",
    "deployed_functions = []\n",
    "\n",
    "print(\"waiting for all deployments to complete...\")\n",
    "for task in all_tasks:\n",
    "    try:\n",
    "        result = task.result(timeout=300)\n",
    "        print(f\"success: {task.name} deployed. result: {result}\")\n",
    "        deployed_functions.append(task)\n",
    "    except Exception as e:\n",
    "        print(f\"failed to deploy a function. error: {e}\")"
   ],
   "outputs": [],
   "execution_count": null,
   "id": "6d04743a268fbcc5"
  },
  {
   "cell_type": "markdown",
   "metadata": {},
   "source": [
    "## Cleanup\n",
    "\n",
    "Shut down the faas manager to clean up deployed functions."
   ],
   "id": "32c09ccba7f0139a"
  },
  {
   "cell_type": "code",
   "metadata": {},
   "source": [
    "print(\"shutting down services and cleaning up resources\")\n",
    "if 'service_mgr' in locals():\n",
    "    service_mgr.shutdown_services()\n",
    "shutil.rmtree('./examples/agent_functions')\n",
    "print(\"cleanup complete.\")"
   ],
   "outputs": [],
   "execution_count": null,
   "id": "143a842dac471c90"
  }
 ]
}
