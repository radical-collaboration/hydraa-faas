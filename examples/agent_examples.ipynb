{
 "cells": [
  {
   "cell_type": "markdown",
   "metadata": {},
   "source": [
    "# Agent FaaS Deployment with HydrA FaaS Manager\n",
    "\n",
    "This notebook demonstrates function deployment using the HydrA FaaS Manager with the Agent FaaS middleware. It covers two primary methods:\n",
    "1. **Inline Code**: Defining function code directly within the notebook.\n",
    "2. **Project Directories**: Deploying functions from local project directories.\n",
    "\n",
    "## Prerequisites\n",
    "- The Agent FaaS middleware must be running and configured (on `localhost:8000` by default).\n",
    "- Docker must be running, and you should be logged into your container registry (`docker login`)."
   ],
   "id": "b3ec039a9f11fd4a"
  },
  {
   "cell_type": "code",
   "metadata": {
    "ExecuteTime": {
     "end_time": "2025-07-08T00:35:22.599264Z",
     "start_time": "2025-07-08T00:35:21.409655Z"
    }
   },
   "source": [
    "import os\n",
    "import shutil\n",
    "import requests\n",
    "from pathlib import Path\n",
    "import json\n",
    "import time\n",
    "import sys\n",
    "\n",
    "sys.path.insert(0, os.path.abspath('..'))\n",
    "\n",
    "from src.hydraa_faas.faas_manager.manager import FaasManager\n",
    "from hydraa.services import ServiceManager\n",
    "from hydraa import Task"
   ],
   "id": "bb64d0baab463375",
   "outputs": [],
   "execution_count": 1
  },
  {
   "cell_type": "markdown",
   "metadata": {},
   "source": [
    "## 1. Initial Setup\n",
    "\n",
    "First, we define a mock proxy to configure the `FaasManager`, check the agent's health, and initialize the manager."
   ],
   "id": "b69800cb414668e"
  },
  {
   "cell_type": "code",
   "metadata": {
    "ExecuteTime": {
     "end_time": "2025-07-08T00:35:22.622177Z",
     "start_time": "2025-07-08T00:35:22.607786Z"
    }
   },
   "source": [
    "class MockProxy:\n",
    "    \"\"\"A mock proxy to simulate credential loading for the FaaS Manager.\"\"\"\n",
    "    def __init__(self):\n",
    "        self.loaded_providers = ['agent']\n",
    "    \n",
    "    def _load_credentials(self, provider):\n",
    "        if provider == 'agent':\n",
    "            return {'host': 'localhost', 'port': 8000}\n",
    "        return {}\n",
    "\n",
    "agent_url = \"http://localhost:8000\"\n",
    "\n",
    "print(\"Checking agent faas middleware health...\")\n",
    "try:\n",
    "    response = requests.get(f\"{agent_url}/health\", timeout=5)\n",
    "    agent_healthy = response.json().get('status') == 'healthy'\n",
    "except Exception as e:\n",
    "    agent_healthy = False\n",
    "\n",
    "if agent_healthy:\n",
    "    print(\"✅ Agent is healthy and ready.\")\n",
    "    faas_mgr = FaasManager(proxy_mgr=MockProxy(), asynchronous=True, auto_terminate=True)\n",
    "    try:\n",
    "        service_mgr = ServiceManager([faas_mgr])\n",
    "        service_mgr.start_services()\n",
    "    except FileExistsError as e:\n",
    "        # handle existing sandbox by cleaning up and restart\n",
    "        sandbox_path = str(e).split(\"'\")[1]\n",
    "        shutil.rmtree(sandbox_path)\n",
    "        service_mgr = ServiceManager([faas_mgr])\n",
    "        service_mgr.start_services()\n",
    "else:\n",
    "    print(\"❌ Agent is not healthy. Please ensure the agent is running before continuing.\")"
   ],
   "id": "e685b3668cdd47fb",
   "outputs": [
    {
     "name": "stdout",
     "output_type": "stream",
     "text": [
      "Checking agent faas middleware health...\n",
      "✅ Agent is healthy and ready.\n",
      "starting faas manager with [1] providers\n",
      "faas manager started with providers: ['agent']\n"
     ]
    }
   ],
   "execution_count": 2
  },
  {
   "cell_type": "markdown",
   "metadata": {},
   "source": [
    "## 2. Create Example Function Directories\n",
    "\n",
    "This step creates the local directories and files for the functions we'll deploy."
   ],
   "id": "2c5172a6fb079ae7"
  },
  {
   "cell_type": "code",
   "metadata": {
    "ExecuteTime": {
     "end_time": "2025-07-08T00:35:22.819640Z",
     "start_time": "2025-07-08T00:35:22.814261Z"
    }
   },
   "source": [
    "base_dir = Path(\"temp_agent_functions\")\n",
    "if base_dir.exists():\n",
    "    shutil.rmtree(base_dir)\n",
    "base_dir.mkdir()\n",
    "\n",
    "calc_dir = base_dir / \"calculator\"\n",
    "calc_dir.mkdir()\n",
    "with open(calc_dir / \"main.py\", 'w') as f:\n",
    "    f.write('''\n",
    "import json\n",
    "def handler(context, event):\n",
    "    a = event.get('a', 0)\n",
    "    b = event.get('b', 0)\n",
    "    return {'statusCode': 200, 'body': json.dumps({'sum': a + b})}\n",
    "''')\n",
    "print(f\"Created calculator function at: {calc_dir.resolve()}\")\n",
    "\n",
    "text_dir = base_dir / \"text_analyzer\"\n",
    "text_dir.mkdir()\n",
    "with open(text_dir / \"main.py\", 'w') as f:\n",
    "    f.write('''\n",
    "import json\n",
    "import inflect\n",
    "p = inflect.engine()\n",
    "def handler(context, event):\n",
    "    text = event.get('text', '')\n",
    "    count = len(text.split())\n",
    "    return {'statusCode': 200, 'body': json.dumps({'message': f'The text has {p.number_to_words(count)} words.'})}\n",
    "''')\n",
    "with open(text_dir / \"requirements.txt\", 'w') as f:\n",
    "    f.write('inflect')\n",
    "print(f\"Created text_analyzer function at: {text_dir.resolve()}\")"
   ],
   "id": "9535f2f886372d11",
   "outputs": [
    {
     "name": "stdout",
     "output_type": "stream",
     "text": [
      "Created calculator function at: /Users/monoble/Research/hydraa-faas/examples/temp_agent_functions/calculator\n",
      "Created text_analyzer function at: /Users/monoble/Research/hydraa-faas/examples/temp_agent_functions/text_analyzer\n"
     ]
    }
   ],
   "execution_count": 3
  },
  {
   "cell_type": "markdown",
   "metadata": {},
   "source": [
    "## 3. Deploy Functions\n",
    "\n",
    "We will now define and submit tasks for an inline function and the two functions from the directories we just created."
   ],
   "id": "d2959e3c5c2f0b54"
  },
  {
   "cell_type": "code",
   "metadata": {
    "ExecuteTime": {
     "end_time": "2025-07-08T00:35:22.834974Z",
     "start_time": "2025-07-08T00:35:22.830122Z"
    }
   },
   "source": [
    "inline_task = Task()\n",
    "inline_task.name = 'inline-greeter'\n",
    "inline_task.provider = 'agent'\n",
    "inline_task.handler_code = '''\n",
    "import json\n",
    "def handler(context, event):\n",
    "    name = event.get('name', 'world')\n",
    "    return {'statusCode': 200, 'body': json.dumps({'message': f'Hello, {name} from an inline function!'})}\n",
    "'''\n",
    "inline_task.handler = 'main:handler'\n",
    "inline_task.runtime = 'python:3.9'\n",
    "\n",
    "calculator_task = Task()\n",
    "calculator_task.name = 'directory-calculator'\n",
    "calculator_task.provider = 'agent'\n",
    "calculator_task.source_directory = str(calc_dir.resolve())\n",
    "calculator_task.handler = 'main:handler'\n",
    "calculator_task.runtime = 'python:3.9'\n",
    "\n",
    "text_analyzer_task = Task()\n",
    "text_analyzer_task.name = 'directory-text-analyzer'\n",
    "text_analyzer_task.provider = 'agent'\n",
    "text_analyzer_task.source_directory = str(text_dir.resolve())\n",
    "text_analyzer_task.handler = 'main:handler'\n",
    "text_analyzer_task.runtime = 'python:3.9'\n",
    "\n",
    "all_tasks = [inline_task, calculator_task, text_analyzer_task]\n",
    "\n",
    "if agent_healthy:\n",
    "    print(\"Submitting all functions for deployment...\")\n",
    "    faas_mgr.submit(all_tasks)\n",
    "else:\n",
    "    print(\"Skipping submission because agent is not healthy.\")"
   ],
   "id": "33923ee1d0b3a7d4",
   "outputs": [
    {
     "name": "stdout",
     "output_type": "stream",
     "text": [
      "Submitting all functions for deployment...\n",
      "3 function(s) submitted for deployment\n"
     ]
    }
   ],
   "execution_count": 4
  },
  {
   "cell_type": "markdown",
   "metadata": {},
   "source": [
    "## 4. Get Deployment Results\n",
    "\n",
    "Wait for all submitted functions to finish deploying."
   ],
   "id": "938a4780c1bb63a8"
  },
  {
   "cell_type": "code",
   "metadata": {
    "ExecuteTime": {
     "end_time": "2025-07-08T00:35:33.327797Z",
     "start_time": "2025-07-08T00:35:22.854507Z"
    }
   },
   "source": [
    "deployed_functions = []\n",
    "\n",
    "if agent_healthy:\n",
    "    print(\"Waiting for all deployments to complete...\")\n",
    "    for task in all_tasks:\n",
    "        try:\n",
    "            result = task.result(timeout=600) \n",
    "            print(f\"✅ SUCCESS: {task.name} deployed. Result: {result}\")\n",
    "            deployed_functions.append(task)\n",
    "        except Exception as e:\n",
    "            print(f\"❌ FAILED to deploy {task.name}. Error: {e}\")"
   ],
   "id": "36371599995201fb",
   "outputs": [
    {
     "name": "stdout",
     "output_type": "stream",
     "text": [
      "Waiting for all deployments to complete...\n",
      "✅ SUCCESS: inline-greeter deployed. Result: {'status': 'success', 'name': 'inline-greeter'}\n",
      "✅ SUCCESS: directory-calculator deployed. Result: {'status': 'success', 'name': 'directory-calculator'}\n",
      "✅ SUCCESS: directory-text-analyzer deployed. Result: {'status': 'success', 'name': 'directory-text-analyzer'}\n"
     ]
    }
   ],
   "execution_count": 5
  },
  {
   "cell_type": "markdown",
   "metadata": {},
   "source": [
    "## 5. Invoke Deployed Functions\n",
    "\n",
    "Test the functions that were deployed successfully."
   ],
   "id": "e0275e4871da4771"
  },
  {
   "cell_type": "code",
   "metadata": {
    "ExecuteTime": {
     "end_time": "2025-07-08T00:36:14.830002Z",
     "start_time": "2025-07-08T00:35:33.341022Z"
    }
   },
   "source": [
    "if not deployed_functions:\n",
    "    print(\"No functions were deployed successfully, skipping invocation.\")\n",
    "else:\n",
    "    print(\"\\n--- Invoking Deployed Functions ---\\n\")\n",
    "    # This cell must be 'async' or use await in a notebook that supports it.\n",
    "    for task in deployed_functions:\n",
    "        payload = {}\n",
    "        if 'greeter' in task.name:\n",
    "            payload = {'name': 'HydrA'}\n",
    "        elif 'calculator' in task.name:\n",
    "            payload = {'a': 100, 'b': 55}\n",
    "        elif 'analyzer' in task.name:\n",
    "            payload = {'text': 'This is a test of the text analyzer'}\n",
    "        \n",
    "        try:\n",
    "            print(f\"Invoking {task.name}...\")\n",
    "            # --- FIX: Use 'await' to get the result from the async task ---\n",
    "            response = await faas_mgr.invoke(task.name, payload=payload, provider='agent')\n",
    "            print(f\"Response from {task.name}: {response['function_response']}\\n\")\n",
    "        except Exception as e:\n",
    "            print(f\"Error invoking {task.name}: {e}\\n\")"
   ],
   "id": "47dcf4d6eef08aa2",
   "outputs": [
    {
     "name": "stdout",
     "output_type": "stream",
     "text": [
      "\n",
      "--- Invoking Deployed Functions ---\n",
      "\n",
      "Invoking inline-greeter...\n",
      "Error invoking inline-greeter: <asyncio.locks.Event object at 0x111d7b820 [unset]> is bound to a different event loop\n",
      "\n",
      "Invoking directory-calculator...\n",
      "Error invoking directory-calculator: Server error '500 Internal Server Error' for url 'http://localhost:8000/invoke'\n",
      "For more information check: https://developer.mozilla.org/en-US/docs/Web/HTTP/Status/500\n",
      "\n",
      "Invoking directory-text-analyzer...\n",
      "Error invoking directory-text-analyzer: Server error '500 Internal Server Error' for url 'http://localhost:8000/invoke'\n",
      "For more information check: https://developer.mozilla.org/en-US/docs/Web/HTTP/Status/500\n",
      "\n"
     ]
    }
   ],
   "execution_count": 6
  },
  {
   "cell_type": "markdown",
   "metadata": {},
   "source": [
    "## 6. Cleanup\n",
    "\n",
    "Shut down the FaaS manager to clean up all deployed functions and remove temporary directories."
   ],
   "id": "12f9ae2323f5b699"
  },
  {
   "cell_type": "code",
   "metadata": {
    "ExecuteTime": {
     "end_time": "2025-07-08T00:36:15.108591Z",
     "start_time": "2025-07-08T00:36:14.849831Z"
    }
   },
   "source": [
    "print(\"Shutting down services and cleaning up resources...\")\n",
    "if 'service_mgr' in locals() and service_mgr.is_active():\n",
    "    service_mgr.shutdown_services()\n",
    "    print(\"✅ FaaS Manager shut down.\")\n",
    "\n",
    "if base_dir.exists():\n",
    "    shutil.rmtree(base_dir)\n",
    "    print(f\"✅ Removed temporary directory: {base_dir.resolve()}\")\n",
    "\n",
    "print(\"\\nCleanup complete.\")"
   ],
   "id": "77bc71ad91c25ddb",
   "outputs": [
    {
     "name": "stdout",
     "output_type": "stream",
     "text": [
      "Shutting down services and cleaning up resources...\n"
     ]
    },
    {
     "ename": "AttributeError",
     "evalue": "'ServiceManager' object has no attribute 'is_active'",
     "output_type": "error",
     "traceback": [
      "\u001B[0;31m---------------------------------------------------------------------------\u001B[0m",
      "\u001B[0;31mAttributeError\u001B[0m                            Traceback (most recent call last)",
      "Cell \u001B[0;32mIn[7], line 2\u001B[0m\n\u001B[1;32m      1\u001B[0m \u001B[38;5;28mprint\u001B[39m(\u001B[38;5;124m\"\u001B[39m\u001B[38;5;124mShutting down services and cleaning up resources...\u001B[39m\u001B[38;5;124m\"\u001B[39m)\n\u001B[0;32m----> 2\u001B[0m \u001B[38;5;28;01mif\u001B[39;00m \u001B[38;5;124m'\u001B[39m\u001B[38;5;124mservice_mgr\u001B[39m\u001B[38;5;124m'\u001B[39m \u001B[38;5;129;01min\u001B[39;00m \u001B[38;5;28mlocals\u001B[39m() \u001B[38;5;129;01mand\u001B[39;00m \u001B[43mservice_mgr\u001B[49m\u001B[38;5;241;43m.\u001B[39;49m\u001B[43mis_active\u001B[49m():\n\u001B[1;32m      3\u001B[0m     service_mgr\u001B[38;5;241m.\u001B[39mshutdown_services()\n\u001B[1;32m      4\u001B[0m     \u001B[38;5;28mprint\u001B[39m(\u001B[38;5;124m\"\u001B[39m\u001B[38;5;124m✅ FaaS Manager shut down.\u001B[39m\u001B[38;5;124m\"\u001B[39m)\n",
      "\u001B[0;31mAttributeError\u001B[0m: 'ServiceManager' object has no attribute 'is_active'"
     ]
    }
   ],
   "execution_count": 7
  }
 ]
}
