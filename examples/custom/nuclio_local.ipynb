{
 "cells": [
  {
   "cell_type": "markdown",
   "metadata": {},
   "source": [
    "# Nuclio Serverless on Minikube with Hydraa\n",
    "\n",
    "This notebook demonstrates how to deploy and manage serverless functions on Nuclio using Minikube locally."
   ]
  },
  {
   "cell_type": "markdown",
   "metadata": {},
   "source": [
    "## Setup and Initialization"
   ]
  },
  {
   "cell_type": "code",
   "metadata": {
    "ExecuteTime": {
     "end_time": "2025-07-28T07:41:15.621444Z",
     "start_time": "2025-07-28T07:41:15.588964Z"
    }
   },
   "source": [
    "import os\n",
    "import json\n",
    "import time\n",
    "import traceback\n",
    "from hydraa import proxy, LOCAL, Task, LocalVM\n",
    "from hydraa.services import ServiceManager\n",
    "from hydraa_faas.faas_manager.manager import FaasManager"
   ],
   "outputs": [],
   "execution_count": 4
  },
  {
   "cell_type": "code",
   "metadata": {
    "ExecuteTime": {
     "end_time": "2025-07-28T07:42:29.293607Z",
     "start_time": "2025-07-28T07:41:59.261730Z"
    }
   },
   "source": [
    "# Create local VM for minikube deployment\n",
    "# Make sure to run 'minikube start' before executing this cell\n",
    "vm = LocalVM(launch_type='join', KubeConfigPath='~/.kube/config')\n",
    "\n",
    "# Initialize proxy and FaaS manager\n",
    "provider_mgr = proxy([LOCAL])\n",
    "\n",
    "try:\n",
    "    faas_mgr = FaasManager(\n",
    "        proxy_mgr=provider_mgr,  # Fixed parameter name\n",
    "        vms=[vm],\n",
    "        asynchronous=False,\n",
    "        auto_terminate=False  # Keep cluster running for development\n",
    "    )\n",
    "\n",
    "    # Start services\n",
    "    service_mgr = ServiceManager([faas_mgr])\n",
    "    service_mgr.start_services()\n",
    "    \n",
    "    # Wait for initialization\n",
    "    print(\"Waiting for Nuclio initialization...\")\n",
    "    time.sleep(30)  # Give time for Nuclio to install\n",
    "\n",
    "    # Check status\n",
    "    status = faas_mgr.get_status()\n",
    "    print(f\"FaaS Manager Status: {json.dumps(status, indent=2)}\")\n",
    "\n",
    "except Exception as e:\n",
    "    print(f\"Failed to initialize FaaS manager: {e}\")\n",
    "    traceback.print_exc()"
   ],
   "outputs": [
    {
     "name": "stdout",
     "output_type": "stream",
     "text": [
      "login to: ['local'] succeed\n",
      "Waiting for Nuclio initialization...\n",
      "FaaS Manager Status: {\n",
      "  \"manager_id\": \"faas-mgr-n0tbbnag\",\n",
      "  \"initialized\": true,\n",
      "  \"active_tasks\": 0,\n",
      "  \"total_tasks\": 0,\n",
      "  \"providers\": {\n",
      "    \"nuclio-local\": {\n",
      "      \"active\": false,\n",
      "      \"functions_count\": 0,\n",
      "      \"deployment_target\": \"minikube\",\n",
      "      \"namespace\": \"nuclio\",\n",
      "      \"registry_configured\": false,\n",
      "      \"cluster_status\": \"ready\",\n",
      "      \"queue_size\": 0,\n",
      "      \"vm_provider\": \"local\"\n",
      "    }\n",
      "  }\n",
      "}\n"
     ]
    }
   ],
   "execution_count": 6
  },
  {
   "cell_type": "markdown",
   "metadata": {},
   "source": [
    "## 1. Inline Code Deployment"
   ]
  },
  {
   "cell_type": "code",
   "metadata": {
    "ExecuteTime": {
     "end_time": "2025-07-28T07:46:38.585289Z",
     "start_time": "2025-07-28T07:43:16.836141Z"
    }
   },
   "source": [
    "# Simple inline function example\n",
    "inline_task = Task()\n",
    "inline_task.provider = 'nuclio'  # Fixed: use 'nuclio' for Nuclio deployment\n",
    "inline_task.memory = 128\n",
    "inline_task.vcpus = 0.1\n",
    "\n",
    "# Add runtime attributes\n",
    "inline_task.runtime = 'python:3.9'\n",
    "inline_task.handler = 'main:handler'\n",
    "inline_task.handler_code = '''\n",
    "import json\n",
    "\n",
    "def handler(context, event):\n",
    "    body = event.body\n",
    "    if isinstance(body, bytes):\n",
    "        body = body.decode('utf-8')\n",
    "    \n",
    "    data = {}\n",
    "    if body:\n",
    "        try:\n",
    "            data = json.loads(body)\n",
    "        except json.JSONDecodeError:\n",
    "            pass\n",
    "    \n",
    "    return json.dumps({\n",
    "        'message': 'Hello from Nuclio!',\n",
    "        'received': data,\n",
    "        'timestamp': str(context.event_time)\n",
    "    })\n",
    "'''\n",
    "\n",
    "try:\n",
    "    # Deploy\n",
    "    print(\"Deploying inline function...\")\n",
    "    faas_mgr.submit(inline_task)\n",
    "    result = inline_task.result()\n",
    "    print(f\"Inline function deployed: {result}\")\n",
    "    \n",
    "    # Wait a bit for function to be ready\n",
    "    time.sleep(5)\n",
    "\n",
    "    # Test - use the nuclio-local provider name\n",
    "    response = faas_mgr.invoke(inline_task.name, {'test': 'data'}, provider='nuclio-local')\n",
    "    print(f\"Response: {response}\")\n",
    "except Exception as e:\n",
    "    print(f\"Deployment failed: {e}\")\n",
    "    traceback.print_exc()"
   ],
   "outputs": [
    {
     "name": "stdout",
     "output_type": "stream",
     "text": [
      "Deploying inline function...\n"
     ]
    },
    {
     "ename": "KeyboardInterrupt",
     "evalue": "",
     "output_type": "error",
     "traceback": [
      "\u001B[0;31m---------------------------------------------------------------------------\u001B[0m",
      "\u001B[0;31mKeyboardInterrupt\u001B[0m                         Traceback (most recent call last)",
      "Cell \u001B[0;32mIn[7], line 36\u001B[0m\n\u001B[1;32m     34\u001B[0m \u001B[38;5;28mprint\u001B[39m(\u001B[38;5;124m\"\u001B[39m\u001B[38;5;124mDeploying inline function...\u001B[39m\u001B[38;5;124m\"\u001B[39m)\n\u001B[1;32m     35\u001B[0m faas_mgr\u001B[38;5;241m.\u001B[39msubmit(inline_task)\n\u001B[0;32m---> 36\u001B[0m result \u001B[38;5;241m=\u001B[39m \u001B[43minline_task\u001B[49m\u001B[38;5;241;43m.\u001B[39;49m\u001B[43mresult\u001B[49m\u001B[43m(\u001B[49m\u001B[43m)\u001B[49m\n\u001B[1;32m     37\u001B[0m \u001B[38;5;28mprint\u001B[39m(\u001B[38;5;124mf\u001B[39m\u001B[38;5;124m\"\u001B[39m\u001B[38;5;124mInline function deployed: \u001B[39m\u001B[38;5;132;01m{\u001B[39;00mresult\u001B[38;5;132;01m}\u001B[39;00m\u001B[38;5;124m\"\u001B[39m)\n\u001B[1;32m     39\u001B[0m \u001B[38;5;66;03m# Wait a bit for function to be ready\u001B[39;00m\n",
      "File \u001B[0;32m/Applications/Xcode.app/Contents/Developer/Library/Frameworks/Python3.framework/Versions/3.9/lib/python3.9/concurrent/futures/_base.py:440\u001B[0m, in \u001B[0;36mFuture.result\u001B[0;34m(self, timeout)\u001B[0m\n\u001B[1;32m    437\u001B[0m \u001B[38;5;28;01melif\u001B[39;00m \u001B[38;5;28mself\u001B[39m\u001B[38;5;241m.\u001B[39m_state \u001B[38;5;241m==\u001B[39m FINISHED:\n\u001B[1;32m    438\u001B[0m     \u001B[38;5;28;01mreturn\u001B[39;00m \u001B[38;5;28mself\u001B[39m\u001B[38;5;241m.\u001B[39m__get_result()\n\u001B[0;32m--> 440\u001B[0m \u001B[38;5;28;43mself\u001B[39;49m\u001B[38;5;241;43m.\u001B[39;49m\u001B[43m_condition\u001B[49m\u001B[38;5;241;43m.\u001B[39;49m\u001B[43mwait\u001B[49m\u001B[43m(\u001B[49m\u001B[43mtimeout\u001B[49m\u001B[43m)\u001B[49m\n\u001B[1;32m    442\u001B[0m \u001B[38;5;28;01mif\u001B[39;00m \u001B[38;5;28mself\u001B[39m\u001B[38;5;241m.\u001B[39m_state \u001B[38;5;129;01min\u001B[39;00m [CANCELLED, CANCELLED_AND_NOTIFIED]:\n\u001B[1;32m    443\u001B[0m     \u001B[38;5;28;01mraise\u001B[39;00m CancelledError()\n",
      "File \u001B[0;32m/Applications/Xcode.app/Contents/Developer/Library/Frameworks/Python3.framework/Versions/3.9/lib/python3.9/threading.py:312\u001B[0m, in \u001B[0;36mCondition.wait\u001B[0;34m(self, timeout)\u001B[0m\n\u001B[1;32m    310\u001B[0m \u001B[38;5;28;01mtry\u001B[39;00m:    \u001B[38;5;66;03m# restore state no matter what (e.g., KeyboardInterrupt)\u001B[39;00m\n\u001B[1;32m    311\u001B[0m     \u001B[38;5;28;01mif\u001B[39;00m timeout \u001B[38;5;129;01mis\u001B[39;00m \u001B[38;5;28;01mNone\u001B[39;00m:\n\u001B[0;32m--> 312\u001B[0m         \u001B[43mwaiter\u001B[49m\u001B[38;5;241;43m.\u001B[39;49m\u001B[43macquire\u001B[49m\u001B[43m(\u001B[49m\u001B[43m)\u001B[49m\n\u001B[1;32m    313\u001B[0m         gotit \u001B[38;5;241m=\u001B[39m \u001B[38;5;28;01mTrue\u001B[39;00m\n\u001B[1;32m    314\u001B[0m     \u001B[38;5;28;01melse\u001B[39;00m:\n",
      "\u001B[0;31mKeyboardInterrupt\u001B[0m: "
     ]
    }
   ],
   "execution_count": 7
  },
  {
   "cell_type": "markdown",
   "metadata": {},
   "source": [
    "## 2. Source Directory Deployment"
   ]
  },
  {
   "cell_type": "code",
   "execution_count": null,
   "metadata": {},
   "outputs": [],
   "source": [
    "# First, let's create the directory structure for our functions\n",
    "import os\n",
    "os.makedirs('./nuclio_functions/image_classifier', exist_ok=True)\n",
    "os.makedirs('./nuclio_functions/stream_processor', exist_ok=True)"
   ]
  },
  {
   "cell_type": "code",
   "execution_count": null,
   "metadata": {},
   "outputs": [],
   "source": [
    "# Deploy ML inference function from directory\n",
    "ml_task = Task()\n",
    "ml_task.provider = 'nuclio'\n",
    "ml_task.memory = 512\n",
    "ml_task.vcpus = 0.5\n",
    "\n",
    "# Add attributes\n",
    "ml_task.runtime = 'python:3.9'\n",
    "ml_task.source_path = './nuclio_functions/image_classifier'\n",
    "ml_task.handler = 'classifier:classify'\n",
    "ml_task.env_vars = {\n",
    "    'MODEL_TYPE': 'mobilenet',\n",
    "    'CONFIDENCE_THRESHOLD': '0.7'\n",
    "}\n",
    "ml_task.min_replicas = 1\n",
    "ml_task.max_replicas = 3\n",
    "\n",
    "# Add custom build commands for dependencies\n",
    "ml_task.build_commands = [\n",
    "    'pip install pillow',\n",
    "    'pip install requests',\n",
    "    'pip install numpy'\n",
    "]\n",
    "\n",
    "try:\n",
    "    # Deploy\n",
    "    print(\"Deploying ML function...\")\n",
    "    faas_mgr.submit(ml_task)\n",
    "    result = ml_task.result()\n",
    "    print(f\"ML function deployed: {result}\")\n",
    "    \n",
    "    time.sleep(5)\n",
    "\n",
    "    # Test\n",
    "    test_image = {\n",
    "        'image_url': 'https://raw.githubusercontent.com/pytorch/hub/master/images/dog.jpg',\n",
    "        'return_top_k': 5\n",
    "    }\n",
    "    response = faas_mgr.invoke(ml_task.name, test_image, provider='nuclio-local')\n",
    "    print(f\"Classification results: {json.dumps(response, indent=2)}\")\n",
    "except Exception as e:\n",
    "    print(f\"ML deployment failed: {e}\")\n",
    "    traceback.print_exc()"
   ]
  },
  {
   "cell_type": "code",
   "execution_count": null,
   "metadata": {},
   "outputs": [],
   "source": [
    "# Deploy stream processor from directory\n",
    "stream_task = Task()\n",
    "stream_task.provider = 'nuclio'\n",
    "stream_task.memory = 256\n",
    "stream_task.vcpus = 0.25\n",
    "\n",
    "# Add attributes\n",
    "stream_task.runtime = 'python:3.9'\n",
    "stream_task.source_path = './nuclio_functions/stream_processor'\n",
    "stream_task.handler = 'processor:process_stream'\n",
    "stream_task.build_commands = ['pip install uuid']\n",
    "\n",
    "try:\n",
    "    # Deploy\n",
    "    print(\"Deploying stream processor...\")\n",
    "    faas_mgr.submit(stream_task)\n",
    "    result = stream_task.result()\n",
    "    print(f\"Stream processor deployed: {result}\")\n",
    "    \n",
    "    time.sleep(5)\n",
    "\n",
    "    # Test\n",
    "    test_stream = {\n",
    "        'events': [\n",
    "            {'id': 1, 'type': 'click', 'timestamp': '2024-01-01T10:00:00Z'},\n",
    "            {'id': 2, 'type': 'view', 'timestamp': '2024-01-01T10:01:00Z'},\n",
    "            {'id': 3, 'type': 'purchase', 'amount': 99.99, 'timestamp': '2024-01-01T10:02:00Z'}\n",
    "        ]\n",
    "    }\n",
    "    response = faas_mgr.invoke(stream_task.name, test_stream, provider='nuclio-local')\n",
    "    print(f\"Stream processing result: {json.dumps(response, indent=2)}\")\n",
    "except Exception as e:\n",
    "    print(f\"Stream processor deployment failed: {e}\")\n",
    "    traceback.print_exc()"
   ]
  },
  {
   "cell_type": "markdown",
   "metadata": {},
   "source": [
    "## 3. Container Image Deployment"
   ]
  },
  {
   "cell_type": "code",
   "execution_count": null,
   "metadata": {},
   "outputs": [],
   "source": [
    "# Deploy from pre-built container image\n",
    "container_task = Task()\n",
    "container_task.provider = 'nuclio'\n",
    "container_task.memory = 1024\n",
    "container_task.vcpus = 1\n",
    "container_task.image = 'python:3.9-slim'  # Use a real image\n",
    "\n",
    "# Add attributes\n",
    "container_task.handler = 'main:handler'\n",
    "container_task.runtime = 'python:3.9'\n",
    "container_task.handler_code = '''\n",
    "import json\n",
    "import sys\n",
    "\n",
    "def handler(context, event):\n",
    "    return json.dumps({\n",
    "        'message': 'Hello from container!',\n",
    "        'python_version': sys.version\n",
    "    })\n",
    "'''\n",
    "\n",
    "# Uncomment to deploy\n",
    "# try:\n",
    "#     print(\"Deploying container function...\")\n",
    "#     faas_mgr.submit(container_task)\n",
    "#     result = container_task.result()\n",
    "#     print(f\"Container function deployed: {result}\")\n",
    "# except Exception as e:\n",
    "#     print(f\"Container deployment failed: {e}\")\n",
    "#     traceback.print_exc()"
   ]
  },
  {
   "cell_type": "markdown",
   "metadata": {},
   "source": [
    "## Advanced Features"
   ]
  },
  {
   "cell_type": "code",
   "execution_count": null,
   "metadata": {},
   "outputs": [],
   "source": [
    "# Auto-scaling configuration\n",
    "scaling_task = Task()\n",
    "scaling_task.provider = 'nuclio'\n",
    "scaling_task.memory = 256\n",
    "scaling_task.vcpus = 0.25\n",
    "\n",
    "# Add attributes\n",
    "scaling_task.runtime = 'python:3.9'\n",
    "scaling_task.handler = 'handler:process'\n",
    "scaling_task.handler_code = '''\n",
    "import json\n",
    "import time\n",
    "\n",
    "def process(context, event):\n",
    "    # Simulate some processing\n",
    "    time.sleep(0.1)\n",
    "    return json.dumps({\n",
    "        'processed': True,\n",
    "        'instance': context.worker_id\n",
    "    })\n",
    "'''\n",
    "scaling_task.min_replicas = 0  # Scale to zero\n",
    "scaling_task.max_replicas = 5\n",
    "\n",
    "try:\n",
    "    # Deploy with auto-scaling\n",
    "    print(\"Deploying auto-scaling function...\")\n",
    "    faas_mgr.submit(scaling_task)\n",
    "    result = scaling_task.result()\n",
    "    print(f\"Auto-scaling function deployed: {result}\")\n",
    "except Exception as e:\n",
    "    print(f\"Auto-scaling function deployment failed: {e}\")\n",
    "    traceback.print_exc()"
   ]
  },
  {
   "cell_type": "code",
   "execution_count": null,
   "metadata": {},
   "outputs": [],
   "source": [
    "# Batch deployment\n",
    "workers = []\n",
    "for i in range(3):\n",
    "    task = Task()\n",
    "    task.provider = 'nuclio'\n",
    "    task.memory = 256\n",
    "    task.vcpus = 0.25\n",
    "    \n",
    "    # Add attributes\n",
    "    task.runtime = 'python:3.9'\n",
    "    task.handler = 'worker:process'\n",
    "    task.handler_code = f'''\n",
    "import json\n",
    "\n",
    "def process(context, event):\n",
    "    return json.dumps({{\n",
    "        'worker_id': {i},\n",
    "        'message': 'Processing complete'\n",
    "    }})\n",
    "'''\n",
    "    task.env_vars = {'WORKER_ID': str(i)}\n",
    "    workers.append(task)\n",
    "\n",
    "try:\n",
    "    # Deploy workers\n",
    "    print(\"Deploying batch of workers...\")\n",
    "    faas_mgr.submit(workers)\n",
    "    for i, task in enumerate(workers):\n",
    "        result = task.result()\n",
    "        print(f\"Worker {i} deployed: {task.name}\")\n",
    "except Exception as e:\n",
    "    print(f\"Batch deployment failed: {e}\")\n",
    "    traceback.print_exc()"
   ]
  },
  {
   "cell_type": "code",
   "execution_count": null,
   "metadata": {},
   "outputs": [],
   "source": [
    "# List and manage functions\n",
    "try:\n",
    "    functions = faas_mgr.list_functions()\n",
    "    print(\"Deployed functions:\")\n",
    "    for provider, funcs in functions.items():\n",
    "        print(f\"\\nProvider: {provider}\")\n",
    "        for func in funcs:\n",
    "            print(f\"  - {func['name']} (state: {func.get('state', 'unknown')}, replicas: {func.get('replicas', 0)})\")\n",
    "\n",
    "    # Get manager status\n",
    "    status = faas_mgr.get_status()\n",
    "    print(f\"\\nManager status: {json.dumps(status, indent=2)}\")\n",
    "    \n",
    "    # Get provider health\n",
    "    health = faas_mgr.get_provider_health()\n",
    "    print(f\"\\nProvider health: {json.dumps(health, indent=2)}\")\n",
    "except Exception as e:\n",
    "    print(f\"Failed to list functions: {e}\")\n",
    "    traceback.print_exc()"
   ]
  },
  {
   "cell_type": "markdown",
   "metadata": {},
   "source": [
    "## Cleanup"
   ]
  },
  {
   "cell_type": "code",
   "execution_count": null,
   "metadata": {},
   "outputs": [],
   "source": [
    "# Delete specific function\n",
    "# try:\n",
    "#     if 'inline_task' in locals() and hasattr(inline_task, 'name'):\n",
    "#         faas_mgr.delete_function(inline_task.name, provider='nuclio')\n",
    "#         print(f\"Deleted function: {inline_task.name}\")\n",
    "# except Exception as e:\n",
    "#     print(f\"Failed to delete function: {e}\")\n",
    "\n",
    "# Shutdown manager (keeps minikube running if auto_terminate=False)\n",
    "# try:\n",
    "#     faas_mgr.shutdown()\n",
    "#     print(\"FaaS manager shutdown complete\")\n",
    "# except Exception as e:\n",
    "#     print(f\"Failed to shutdown manager: {e}\")\n",
    "\n",
    "# To fully cleanup minikube cluster, run:\n",
    "# !minikube delete"
   ]
  }
 ],
 "metadata": {
  "kernelspec": {
   "display_name": "Python 3",
   "language": "python",
   "name": "python3"
  },
  "language_info": {
   "codemirror_mode": {
    "name": "ipython",
    "version": 3
   },
   "file_extension": ".py",
   "mimetype": "text/x-python",
   "name": "python",
   "nbconvert_exporter": "python",
   "pygments_lexer": "ipython3",
   "version": "3.9.0"
  }
 },
 "nbformat": 4,
 "nbformat_minor": 4
}
