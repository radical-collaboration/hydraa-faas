{
 "cells": [
  {
   "cell_type": "markdown",
   "metadata": {},
   "source": [
    "# AWS Lambda Container Deployment with Hydraa FaaS Manager\n",
    "\n",
    "This notebook demonstrates container based lambda function deployment using the Hydraa FaaS Manager with ECR (Elastic Container Registry).\n",
    "\n",
    "## Prerequisites\n",
    "- AWS credentials configured\n",
    "- Docker installed and running\n",
    "- Hydraa FaaS Manager installed\n",
    "- Lambda function code with Dockerfile prepared\n",
    "- ECR permissions (create repositories, push images)"
   ]
  },
  {
   "cell_type": "code",
   "metadata": {},
   "source": [
    "from src.hydraa_faas.faas_manager.manager import FaasManager\n",
    "from hydraa.services import ServiceManager\n",
    "from hydraa import proxy, AWS, Task\n",
    "import os\n",
    "from dotenv import load_dotenv\n",
    "import shutil"
   ],
   "outputs": [],
   "execution_count": null
  },
  {
   "cell_type": "markdown",
   "metadata": {},
   "source": [
    "## Setup AWS Credentials\n",
    "\n",
    "Make sure your AWS credentials are set as environment variables:"
   ]
  },
  {
   "cell_type": "code",
   "metadata": {},
   "source": [
    "# load environment variables from .env file\n",
    "load_dotenv()\n",
    "\n",
    "# verify aws credentials are set\n",
    "required_vars = ['ACCESS_KEY_ID', 'ACCESS_KEY_SECRET', 'AWS_REGION']\n",
    "missing_vars = [var for var in required_vars if not os.getenv(var)]\n",
    "\n",
    "if missing_vars:\n",
    "    raise ValueError(f\"missing environment variables: {missing_vars}. please set them in your .env file.\")"
   ],
   "outputs": [],
   "execution_count": null
  },
  {
   "cell_type": "markdown",
   "metadata": {},
   "source": [
    "## Initialize FaaS Manager\n",
    "\n",
    "Create the provider manager and FaaS manager:"
   ]
  },
  {
   "cell_type": "code",
   "metadata": {},
   "source": [
    "# initialize provider manager\n",
    "provider_mgr = proxy([AWS])\n",
    "\n",
    "# create faas manager with optimized settings\n",
    "faas_mgr = FaasManager(\n",
    "    provider_mgr, \n",
    "    asynchronous=True,  # enable parallel container builds\n",
    "    auto_terminate=True\n",
    ")\n",
    "\n",
    "# start service manager\n",
    "try:\n",
    "    service_mgr = ServiceManager([faas_mgr])\n",
    "    service_mgr.start_services()\n",
    "except FileExistsError as e:\n",
    "    sandbox_path = str(e).split(\"'\")[1]\n",
    "    shutil.rmtree(sandbox_path)\n",
    "    service_mgr = ServiceManager([faas_mgr])\n",
    "    service_mgr.start_services()"
   ],
   "outputs": [],
   "execution_count": null
  },
  {
   "cell_type": "markdown",
   "metadata": {},
   "source": [
    "## Create Container-Based Lambda Function Tasks\n",
    "\n",
    "Create container lambda function tasks that will be built from dockerfiles and pushed to ecr.\n",
    "\n",
    "### Directory Structure Expected:\n",
    "```\n",
    "container_functions/\n",
    "├── function_0/\n",
    "│   ├── Dockerfile\n",
    "│   ├── app.py\n",
    "│   ├── ... # other source code files etc.\n",
    "│   └── requirements.txt\n",
    "├── function_1/\n",
    "│   ├── Dockerfile\n",
    "│   ├── app.py\n",
    "│   ├── ...\n",
    "│   └── requirements.txt\n",
    "└── ...\n",
    "```"
   ]
  },
  {
   "metadata": {},
   "cell_type": "code",
   "source": [
    "tasks = []\n",
    "for i in range(2):\n",
    "    task = Task()\n",
    "    task.source_path = f'./container_functions/function_{i}'\n",
    "    task.memory = 512\n",
    "    task.timeout = 60\n",
    "    task.provider = AWS\n",
    "    task.create_ecr_repo = True\n",
    "    task.handler_name = 'app.lambda_handler'\n",
    "    task.env_var = ['FUNCTION_ID=0', 'ENV=production']\n",
    "    tasks.append(task)"
   ],
   "outputs": [],
   "execution_count": null
  },
  {
   "metadata": {},
   "cell_type": "markdown",
   "source": [
    "## Deploy Container Lambda Functions\n",
    "\n",
    "Submit all container tasks for deployment. With the optimized manager, this will:\n",
    "1. create ecr repositories\n",
    "2. build docker images in parallel (max 3 concurrent)\n",
    "3. push images to ecr\n",
    "4. deploy lambda functions using container images"
   ]
  },
  {
   "metadata": {},
   "cell_type": "code",
   "source": [
    "# submit all container tasks for deployment\n",
    "faas_mgr.submit(tasks)"
   ],
   "outputs": [],
   "execution_count": null
  },
  {
   "metadata": {},
   "cell_type": "code",
   "source": [
    "# wait for all container functions to deploy\n",
    "results = []\n",
    "deployed_functions = []\n",
    "\n",
    "for i, task in enumerate(tasks):\n",
    "    try:\n",
    "        result = task.result(timeout=600)  # 10 minute timeout for container builds\n",
    "        results.append(result)\n",
    "        deployed_functions.append(task)\n",
    "    except Exception as e:\n",
    "        results.append(f\"failed: {e}\")\n",
    "\n",
    "print(\"results\",results,'\\n')\n",
    "print(\"deployed functions\",deployed_functions)"
   ],
   "outputs": [],
   "execution_count": null
  },
  {
   "metadata": {},
   "cell_type": "markdown",
   "source": [
    "## Create Task Using Existing ECR Image\n",
    "\n",
    "Example of deploying a Lambda function using an existing ECR image:"
   ]
  },
  {
   "metadata": {},
   "cell_type": "code",
   "source": [
    "# create a task using existing ecr image\n",
    "existing_image_task = Task()\n",
    "\n",
    "# use existing ecr image (replace with your actual ecr uri)\n",
    "account_id = \"12345678\"  # replace with your aws account id\n",
    "region = os.getenv('AWS_REGION', 'us-east-1')\n",
    "existing_image_task.image = f\"ecr://{account_id}.dkr.ecr.{region}.amazonaws.com/my-existing-lambda:latest\"\n",
    "existing_image_task.memory = 1024\n",
    "existing_image_task.timeout = 30\n",
    "existing_image_task.provider = AWS\n",
    "existing_image_task.create_ecr_repo = False  # don't create new repo\n",
    "\n",
    "# environment variables\n",
    "existing_image_task.env_var = [\n",
    "    'FUNCTION_TYPE=existing_image',\n",
    "    'ENV=production'\n",
    "]\n",
    "\n",
    "# deploy the existing image task\n",
    "# faas_mgr.submit(existing_image_task)\n",
    "# existing_result = existing_image_task.result(timeout=300)"
   ],
   "outputs": [],
   "execution_count": null
  },
  {
   "cell_type": "markdown",
   "metadata": {},
   "source": [
    "## Invoke Container Lambda Functions\n",
    "\n",
    "Test the deployed container functions:"
   ]
  },
  {
   "metadata": {},
   "cell_type": "code",
   "source": [
    "# invoke the deployed container functions\n",
    "successful_invocations = 0\n",
    "invocation_results = []\n",
    "\n",
    "for i, task in enumerate(deployed_functions):\n",
    "    try:\n",
    "        response = faas_mgr.invoke(\n",
    "            task.name, \n",
    "            {\n",
    "                'message': f'Hello from container function {i}!', \n",
    "                'iteration': i,\n",
    "                'container_test': True,\n",
    "                'data': {\n",
    "                    'input_array': [1, 2, 3, 4, 5],\n",
    "                    'process_type': 'container_processing'\n",
    "                }\n",
    "            }\n",
    "        )\n",
    "        \n",
    "        invocation_results.append({\n",
    "            'function': task.name,\n",
    "            'status': response['StatusCode'],\n",
    "            'memory_mb': task.memory,\n",
    "            'success': True\n",
    "        })\n",
    "        successful_invocations += 1\n",
    "            \n",
    "    except Exception as e:\n",
    "        invocation_results.append({\n",
    "            'function': task.name,\n",
    "            'error': str(e),\n",
    "            'success': False\n",
    "        })\n",
    "\n",
    "print(invocation_results)"
   ],
   "outputs": [],
   "execution_count": null
  },
  {
   "metadata": {},
   "cell_type": "markdown",
   "source": [
    "## Check Container Function Status and ECR Resources\n",
    "\n",
    "Get information about deployed container functions and created ECR repositories:"
   ]
  },
  {
   "metadata": {},
   "cell_type": "code",
   "source": [
    "# list all deployed functions\n",
    "functions = faas_mgr.list_functions()\n",
    "function_count = sum(len(func_list) for func_list in functions.values() if isinstance(func_list, list))\n",
    "\n",
    "# check which functions are container-based\n",
    "container_functions = []\n",
    "for provider, func_list in functions.items():\n",
    "    if isinstance(func_list, list):\n",
    "        for func in func_list:\n",
    "            if func.get('PackageType') == 'Image':\n",
    "                container_functions.append(func['FunctionName'])\n",
    "\n",
    "print(container_functions)"
   ],
   "outputs": [],
   "execution_count": null
  },
  {
   "metadata": {},
   "cell_type": "code",
   "source": [
    "# check provider status and resource usage\n",
    "status = faas_mgr.get_provider_status()\n",
    "\n",
    "# display summary\n",
    "for provider, provider_status in status.items():\n",
    "    active_status = \"Active\" if provider_status['active'] else \"Inactive\"\n",
    "    function_count = provider_status['functions_count']\n",
    "    run_id = provider_status['run_id']\n",
    "    \n",
    "# provider status retrieved successfully"
   ],
   "outputs": [],
   "execution_count": null
  },
  {
   "cell_type": "markdown",
   "metadata": {},
   "source": [
    "## Display Container Deployment Results\n",
    "\n",
    "Show the results of our container Lambda deployment and testing:"
   ]
  },
  {
   "cell_type": "code",
   "metadata": {},
   "source": [
    "# display container deployment summary\n",
    "container_deployment_summary = {\n",
    "    'total_container_tasks': len(tasks),\n",
    "    'successful_container_deployments': len(deployed_functions),\n",
    "    'failed_container_deployments': len(tasks) - len(deployed_functions),\n",
    "    'successful_container_invocations': successful_invocations,\n",
    "    'total_functions_in_account': function_count,\n",
    "    'container_functions_deployed': len(container_functions),\n",
    "    'ecr_repositories_created': len([t for t in deployed_functions if hasattr(t, 'create_ecr_repo') and t.create_ecr_repo])\n",
    "}\n",
    "\n",
    "# show key metrics\n",
    "for key, value in container_deployment_summary.items():\n",
    "    formatted_key = key.replace('_', ' ').title()\n",
    "    \n",
    "# display memory configurations used\n",
    "memory_configs = [task.memory for task in deployed_functions]\n",
    "unique_memory_configs = sorted(set(memory_configs))\n",
    "\n",
    "print(container_deployment_summary)\n",
    "\n",
    "# get performance metrics from the optimized manager\n",
    "performance_metrics = faas_mgr.get_performance_metrics()\n",
    "print(f\"\\nperformance metrics: {performance_metrics}\")\n",
    "\n",
    "# clean up resources\n",
    "service_mgr.shutdown_services()"
   ],
   "outputs": [],
   "execution_count": null
  },
  {
   "cell_type": "markdown",
   "metadata": {},
   "source": [
    "## Container Function Examples\n",
    "\n",
    "### Example Dockerfile for Lambda Container:\n",
    "\n",
    "```dockerfile\n",
    "FROM public.ecr.aws/lambda/python:3.9\n",
    "\n",
    "# Copy requirements and install dependencies\n",
    "COPY requirements.txt ${LAMBDA_TASK_ROOT}\n",
    "RUN pip install -r requirements.txt\n",
    "\n",
    "# Copy function code\n",
    "COPY app.py ${LAMBDA_TASK_ROOT}\n",
    "\n",
    "# Set the CMD to your handler\n",
    "CMD [\"app.lambda_handler\"]\n",
    "```\n",
    "\n",
    "### Example Python Lambda Handler (app.py):\n",
    "\n",
    "```python\n",
    "import json\n",
    "import os\n",
    "\n",
    "def lambda_handler(event, context):\n",
    "    function_id = os.environ.get('FUNCTION_ID', 'unknown')\n",
    "    \n",
    "    return {\n",
    "        'statusCode': 200,\n",
    "        'body': json.dumps({\n",
    "            'message': f'Hello from container function {function_id}!',\n",
    "            'event': event,\n",
    "            'container_runtime': True,\n",
    "            'environment': os.environ.get('ENV', 'development')\n",
    "        })\n",
    "    }\n",
    "```"
   ]
  },
  {
   "cell_type": "markdown",
   "metadata": {},
   "source": [
    "## Summary\n",
    "\n",
    "This notebook demonstrated:\n",
    "\n",
    "1**ECR Integration** - automatic ecr repository creation and image management with proper cleanup\n",
    "2**Build Process** - docker image building from source code with dockerfiles (now parallelized)\n",
    "3**Container Configuration** - memory allocation and environment variables for containers\n",
    "4**Existing Image Deployment** - using pre-built ecr images\n",
    "5**Container Function Testing** - invoking containerized lambda functions\n",
    "6**Resource Management** - tracking ecr repositories and container resources with error recovery\n",
    "\n",
    "### Some reasons on why the ecr deployemnt method is a little more flexible:\n",
    "\n",
    "- **Larger Package Size**: up to 10gb vs 50mb for zip packages\n",
    "- **Custom Runtime**: use any language or runtime environment\n",
    "- **Complex Dependencies**: include system libraries and custom tools\n",
    "- **Reusable Images**: share images across multiple functions\n",
    "- **Parallel Builds**: faster deployment with concurrent container builds"
   ]
  }
 ],
 "metadata": {
  "kernelspec": {
   "display_name": "Python 3 (ipykernel)",
   "language": "python",
   "name": "python3"
  },
  "language_info": {
   "codemirror_mode": {
    "name": "ipython",
    "version": 3
   },
   "file_extension": ".py",
   "mimetype": "text/x-python",
   "name": "python",
   "nbconvert_exporter": "python",
   "pygments_lexer": "ipython3",
   "version": "3.9.0"
  }
 },
 "nbformat": 4,
 "nbformat_minor": 4
}
