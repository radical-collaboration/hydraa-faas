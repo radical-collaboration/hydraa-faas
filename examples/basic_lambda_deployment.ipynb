{
 "cells": [
  {
   "cell_type": "markdown",
   "metadata": {},
   "source": [
    "# AWS Lambda Deployment with Hydraa FaaS Manager\n",
    "\n",
    "This notebook demonstrates lambda function deployment (via zip) using the Hydraa FaaS Manager.\n",
    "\n",
    "## Prerequisites\n",
    "- AWS credentials configured\n",
    "- Hydraa FaaS Manager installed\n",
    "- Lambda function code prepared"
   ]
  },
  {
   "cell_type": "code",
   "metadata": {
    "ExecuteTime": {
     "end_time": "2025-07-02T19:07:37.071702Z",
     "start_time": "2025-07-02T19:07:37.068517Z"
    }
   },
   "source": [
    "from src.hydraa_faas.faas_manager.manager import FaasManager\n",
    "from hydraa.services import ServiceManager\n",
    "from hydraa import proxy, AWS, Task\n",
    "import os\n",
    "from dotenv import load_dotenv\n",
    "import shutil"
   ],
   "outputs": [],
   "execution_count": 12
  },
  {
   "cell_type": "markdown",
   "metadata": {},
   "source": [
    "## Setup AWS Credentials\n",
    "\n",
    "Make sure your AWS credentials are set as environment variables:"
   ]
  },
  {
   "cell_type": "code",
   "metadata": {
    "ExecuteTime": {
     "end_time": "2025-07-02T19:07:40.109022Z",
     "start_time": "2025-07-02T19:07:40.103955Z"
    }
   },
   "source": [
    "# load environment variables from .env file containing your region and keys\n",
    "load_dotenv()\n",
    "\n",
    "# verify aws credentials are set\n",
    "required_vars = ['ACCESS_KEY_ID', 'ACCESS_KEY_SECRET', 'AWS_REGION']\n",
    "missing_vars = [var for var in required_vars if not os.getenv(var)]\n",
    "\n",
    "if missing_vars:\n",
    "    raise ValueError(f\"missing environment variables: {missing_vars}. please set them in your .env file.\")"
   ],
   "outputs": [],
   "execution_count": 13
  },
  {
   "cell_type": "markdown",
   "metadata": {},
   "source": [
    "## Initialize FaaS Manager\n",
    "\n",
    "Create the provider manager and FaaS manager:"
   ]
  },
  {
   "cell_type": "code",
   "metadata": {
    "ExecuteTime": {
     "end_time": "2025-07-02T19:07:43.488937Z",
     "start_time": "2025-07-02T19:07:42.926272Z"
    }
   },
   "source": [
    "# initialize provider manager\n",
    "provider_mgr = proxy([AWS])\n",
    "\n",
    "# create faas manager\n",
    "faas_mgr = FaasManager(\n",
    "    provider_mgr, \n",
    "    asynchronous=True,\n",
    "    auto_terminate=True\n",
    ")\n",
    "\n",
    "# start service manager\n",
    "try:\n",
    "    service_mgr = ServiceManager([faas_mgr])\n",
    "    service_mgr.start_services()\n",
    "except FileExistsError as e:\n",
    "    # handle existing sandbox by cleaning up and restart\n",
    "    sandbox_path = str(e).split(\"'\")[1]\n",
    "    shutil.rmtree(sandbox_path)\n",
    "    service_mgr = ServiceManager([faas_mgr])\n",
    "    service_mgr.start_services()"
   ],
   "outputs": [
    {
     "name": "stdout",
     "output_type": "stream",
     "text": [
      "login to: ['aws'] succeed\n",
      "starting faas manager with [1] providers\n",
      "faas manager started with providers: ['aws']\n"
     ]
    }
   ],
   "execution_count": 14
  },
  {
   "cell_type": "markdown",
   "metadata": {},
   "source": [
    "## Create Lambda Function Tasks\n",
    "\n",
    "Create lambda test function project directories by running `python3 lambda_functions/create_functions.py` and then define multiple lambda functions for deployment:"
   ]
  },
  {
   "cell_type": "code",
   "metadata": {
    "ExecuteTime": {
     "end_time": "2025-07-02T19:07:51.187878Z",
     "start_time": "2025-07-02T19:07:51.183695Z"
    }
   },
   "source": [
    "# create 10 lambda function tasks using 'real' project directories\n",
    "tasks = []\n",
    "\n",
    "for i in range(10):\n",
    "    task = Task()\n",
    "    \n",
    "    # lambda function example configuration\n",
    "    task.source_path = f'./lambda_functions/function_{i}'\n",
    "    task.handler_name = 'main.handler'\n",
    "    task.runtime = 'python3.9'\n",
    "    task.memory = 256 + (i * 64)  # memory in MB (128-10240)\n",
    "    task.timeout = 30  # timeout in seconds\n",
    "    task.provider = AWS\n",
    "    \n",
    "    # environment variables that our example functions expect\n",
    "    task.env_var = [f'FUNCTION_ID={i}', 'ENV=production']\n",
    "    \n",
    "    tasks.append(task)"
   ],
   "outputs": [],
   "execution_count": 15
  },
  {
   "cell_type": "markdown",
   "metadata": {},
   "source": [
    "## Deploy Lambda Functions\n",
    "\n",
    "Submit all tasks for deployment:"
   ]
  },
  {
   "cell_type": "code",
   "metadata": {
    "ExecuteTime": {
     "end_time": "2025-07-02T19:07:54.620624Z",
     "start_time": "2025-07-02T19:07:54.616388Z"
    }
   },
   "source": [
    "# submit all tasks for deployment\n",
    "faas_mgr.submit(tasks)"
   ],
   "outputs": [
    {
     "name": "stdout",
     "output_type": "stream",
     "text": [
      "10 function(s) submitted for deployment\n"
     ]
    }
   ],
   "execution_count": 16
  },
  {
   "cell_type": "code",
   "metadata": {
    "ExecuteTime": {
     "end_time": "2025-07-02T19:08:08.610040Z",
     "start_time": "2025-07-02T19:07:57.351412Z"
    }
   },
   "source": [
    "# wait for all functions to deploy\n",
    "results = []\n",
    "deployed_functions = []\n",
    "\n",
    "for i, task in enumerate(tasks):\n",
    "    try:\n",
    "        result = task.result(timeout=300)  # 5 minute timeout per function\n",
    "        results.append(result)\n",
    "        deployed_functions.append(task)\n",
    "    except Exception as e:\n",
    "        results.append(f\"failed: {e}\")"
   ],
   "outputs": [],
   "execution_count": 17
  },
  {
   "cell_type": "markdown",
   "metadata": {},
   "source": [
    "## Invoke Lambda Functions\n",
    "\n",
    "Test the deployed functions:"
   ]
  },
  {
   "cell_type": "code",
   "metadata": {
    "ExecuteTime": {
     "end_time": "2025-07-02T19:08:12.250224Z",
     "start_time": "2025-07-02T19:08:11.837497Z"
    }
   },
   "source": [
    "# invoke the deployed functions\n",
    "successful_invocations = 0\n",
    "invocation_results = []\n",
    "\n",
    "for i, task in enumerate(deployed_functions[:5]):  # test first 5 deployed functions\n",
    "    try:\n",
    "        response = faas_mgr.invoke(\n",
    "            task.name, \n",
    "            {\n",
    "                'message': f'Hello from function {i}!', \n",
    "                'iteration': i,\n",
    "                'test_data': [1, 2, 3, 4, 5]\n",
    "            }\n",
    "        )\n",
    "        \n",
    "        invocation_results.append({\n",
    "            'function': task.name,\n",
    "            'status': response['StatusCode'],\n",
    "            'success': True\n",
    "        })\n",
    "        successful_invocations += 1\n",
    "            \n",
    "    except Exception as e:\n",
    "        invocation_results.append({\n",
    "            'function': task.name,\n",
    "            'error': str(e),\n",
    "            'success': False\n",
    "        })\n",
    "\n",
    "print(invocation_results)"
   ],
   "outputs": [
    {
     "name": "stdout",
     "output_type": "stream",
     "text": [
      "[{'function': 'hydraa-function-0', 'status': 200, 'success': True}]\n"
     ]
    }
   ],
   "execution_count": 18
  },
  {
   "cell_type": "markdown",
   "metadata": {},
   "source": [
    "## Check Function Status\n",
    "\n",
    "Get information about deployed functions:"
   ]
  },
  {
   "cell_type": "code",
   "metadata": {
    "ExecuteTime": {
     "end_time": "2025-07-02T19:08:53.317346Z",
     "start_time": "2025-07-02T19:08:53.244900Z"
    }
   },
   "source": [
    "# list all deployed functions\n",
    "functions = faas_mgr.list_functions()\n",
    "function_count = sum(len(func_list) for func_list in functions.values() if isinstance(func_list, list))"
   ],
   "outputs": [],
   "execution_count": 19
  },
  {
   "cell_type": "code",
   "metadata": {
    "ExecuteTime": {
     "end_time": "2025-07-02T19:08:57.782018Z",
     "start_time": "2025-07-02T19:08:57.777381Z"
    }
   },
   "source": [
    "# check provider status\n",
    "status = faas_mgr.get_provider_status()\n",
    "\n",
    "# display summary\n",
    "for provider, provider_status in status.items():\n",
    "    active_status = \"Active\" if provider_status['active'] else \"Inactive\"\n",
    "    function_count = provider_status['functions_count']\n",
    "    run_id = provider_status['run_id']"
   ],
   "outputs": [],
   "execution_count": 20
  },
  {
   "cell_type": "markdown",
   "metadata": {},
   "source": [
    "## Display Results Summary\n",
    "\n",
    "Show the results of our Lambda deployment and testing:"
   ]
  },
  {
   "cell_type": "code",
   "metadata": {
    "ExecuteTime": {
     "end_time": "2025-07-02T19:09:38.511936Z",
     "start_time": "2025-07-02T19:09:30.670646Z"
    }
   },
   "source": [
    "# display deployment summary\n",
    "deployment_summary = {\n",
    "    'total_tasks': len(tasks),\n",
    "    'successful_deployments': len(deployed_functions),\n",
    "    'failed_deployments': len(tasks) - len(deployed_functions),\n",
    "    'successful_invocations': successful_invocations,\n",
    "    'total_functions_in_account': function_count\n",
    "}\n",
    "\n",
    "# show key metrics\n",
    "for key, value in deployment_summary.items():\n",
    "    formatted_key = key.replace('_', ' ').title()\n",
    "\n",
    "print(deployment_summary)\n",
    "\n",
    "# get performance metrics\n",
    "performance_metrics = faas_mgr.get_performance_metrics()\n",
    "print(f\"\\nperformance metrics: {performance_metrics}\")\n",
    "\n",
    "# clean up resources\n",
    "service_mgr.shutdown_services()"
   ],
   "outputs": [
    {
     "name": "stdout",
     "output_type": "stream",
     "text": [
      "{'total_tasks': 10, 'successful_deployments': 1, 'failed_deployments': 9, 'successful_invocations': 1, 'total_functions_in_account': 1}\n",
      "\n",
      "performance metrics: {'message': 'no deployment metrics available'}\n",
      "shutting down all faas providers\n",
      "terminating provider: aws\n",
      "faas manager shutdown complete\n"
     ]
    }
   ],
   "execution_count": 21
  },
  {
   "cell_type": "markdown",
   "metadata": {},
   "source": [
    "## Summary\n",
    "\n",
    "This notebook demonstrated:\n",
    "\n",
    "1. **FaaS Manager Setup** - simple initialization with optimized performance\n",
    "2. **Function Deployment** - deploying multiple lambda functions from source code with parallel processing\n",
    "3. **Function Testing** - invoking deployed functions with test payloads\n",
    "4. **Status Monitoring** - checking provider and function status\n",
    "5. **Performance Metrics** - viewing deployment analytics\n",
    "6. **Resource Cleanup** - proper shutdown and cleanup of resources"
   ]
  }
 ],
 "metadata": {
  "kernelspec": {
   "display_name": "FaaS Manager Env",
   "language": "python",
   "name": "faas_manager_env"
  },
  "language_info": {
   "codemirror_mode": {
    "name": "ipython",
    "version": 3
   },
   "file_extension": ".py",
   "mimetype": "text/x-python",
   "name": "python",
   "nbconvert_exporter": "python",
   "pygments_lexer": "ipython3",
   "version": "3.9.0"
  }
 },
 "nbformat": 4,
 "nbformat_minor": 4
}
